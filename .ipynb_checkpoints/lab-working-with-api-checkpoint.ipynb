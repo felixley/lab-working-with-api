{
 "cells": [
  {
   "cell_type": "code",
   "execution_count": 12,
   "metadata": {},
   "outputs": [],
   "source": [
    "import pandas as pd\n",
    "import json\n",
    "from  time import sleep\n",
    "import requests  \n",
    "    "
   ]
  },
  {
   "cell_type": "code",
   "execution_count": 13,
   "metadata": {},
   "outputs": [],
   "source": [
    "def get_dates(start, end):\n",
    "    return pd.Series(pd.date_range(start, end,freq='d').format()) # Format makes the output ans str variable.\n"
   ]
  },
  {
   "cell_type": "code",
   "execution_count": 14,
   "metadata": {},
   "outputs": [],
   "source": [
    "def city_name(city):\n",
    "    \n",
    "        url = \"https://skyscanner-skyscanner-flight-search-v1.p.rapidapi.com/apiservices/autosuggest/v1.0/UK/GBP/en-GB/\"\n",
    "\n",
    "        querystring = {\"query\":city}\n",
    "\n",
    "        headers = {\n",
    "        'x-rapidapi-key': \"f428c4d9f7msh4e5fa3349914097p141eafjsnbfb41cd6c5eb\",\n",
    "        'x-rapidapi-host': \"skyscanner-skyscanner-flight-search-v1.p.rapidapi.com\"\n",
    "        }\n",
    "\n",
    "        response = requests.request(\"GET\", url, headers=headers, params=querystring)\n",
    "    \n",
    "    \n",
    "        return response.json()['Places'][0]['PlaceId']"
   ]
  },
  {
   "cell_type": "code",
   "execution_count": 22,
   "metadata": {},
   "outputs": [],
   "source": [
    "def flight_prices(origin, destination, date):\n",
    "    \n",
    "    #departure\n",
    "    dest = city_name(origin)\n",
    "    # arrival\n",
    "    org = city_name(destination)\n",
    "\n",
    "    url = \"https://skyscanner-skyscanner-flight-search-v1.p.rapidapi.com/apiservices/browseroutes/v1.0/DE/EUR/en-US/\" + dest + \"/\" + org + \"/\" + date\n",
    "\n",
    "    headers = {\n",
    "    'x-rapidapi-key': \"f428c4d9f7msh4e5fa3349914097p141eafjsnbfb41cd6c5eb\",\n",
    "    'x-rapidapi-host': \"skyscanner-skyscanner-flight-search-v1.p.rapidapi.com\"\n",
    "    }\n",
    "\n",
    "    response = requests.request(\"GET\", url, headers=headers)\n",
    "      \n",
    "    return response.json()"
   ]
  },
  {
   "cell_type": "code",
   "execution_count": 23,
   "metadata": {},
   "outputs": [
    {
     "data": {
      "text/plain": [
       "{'Quotes': [{'QuoteId': 1,\n",
       "   'MinPrice': 40,\n",
       "   'Direct': True,\n",
       "   'OutboundLeg': {'CarrierIds': [1047],\n",
       "    'OriginId': 44910,\n",
       "    'DestinationId': 42514,\n",
       "    'DepartureDate': '2021-05-15T00:00:00'},\n",
       "   'QuoteDateTime': '2021-02-21T19:59:00'}],\n",
       " 'Carriers': [{'CarrierId': 1047, 'Name': 'eurowings'}],\n",
       " 'Places': [{'Name': 'Berlin Brandenburg',\n",
       "   'Type': 'Station',\n",
       "   'PlaceId': 42514,\n",
       "   'IataCode': 'BER',\n",
       "   'SkyscannerCode': 'BER',\n",
       "   'CityName': 'Berlin',\n",
       "   'CityId': 'BERL',\n",
       "   'CountryName': 'Germany'},\n",
       "  {'Name': 'Cologne',\n",
       "   'Type': 'Station',\n",
       "   'PlaceId': 44910,\n",
       "   'IataCode': 'CGN',\n",
       "   'SkyscannerCode': 'CGN',\n",
       "   'CityName': 'Cologne',\n",
       "   'CityId': 'COLO',\n",
       "   'CountryName': 'Germany'}],\n",
       " 'Currencies': [{'Code': 'EUR',\n",
       "   'Symbol': '€',\n",
       "   'ThousandsSeparator': '.',\n",
       "   'DecimalSeparator': ',',\n",
       "   'SymbolOnLeft': False,\n",
       "   'SpaceBetweenAmountAndSymbol': True,\n",
       "   'RoundingCoefficient': 0,\n",
       "   'DecimalDigits': 2}],\n",
       " 'Routes': [{'Price': 40,\n",
       "   'QuoteDateTime': '2021-02-21T19:59:00',\n",
       "   'QuoteIds': [1],\n",
       "   'OriginId': 44910,\n",
       "   'DestinationId': 42514}]}"
      ]
     },
     "execution_count": 23,
     "metadata": {},
     "output_type": "execute_result"
    }
   ],
   "source": [
    "flight_prices('köln', 'Berlin', '2021-05-15')"
   ]
  },
  {
   "cell_type": "code",
   "execution_count": 33,
   "metadata": {},
   "outputs": [],
   "source": [
    "def flight_days(origin, destination, start, end):\n",
    "    \n",
    "    dates = get_dates(start, end).to_list()\n",
    "    \n",
    "    flights = {}\n",
    "    \n",
    "    for date in dates:\n",
    "        \n",
    "        try:\n",
    "            result = flight_prices(origin, destination, date)\n",
    "            flights[date] = result\n",
    "            sleep(5)\n",
    "        except:\n",
    "            print('ERROR!!')\n",
    "            sleep(60)\n",
    "    \n",
    "    return flights\n",
    "    "
   ]
  },
  {
   "cell_type": "code",
   "execution_count": 59,
   "metadata": {},
   "outputs": [],
   "source": [
    "flights = flight_days('London', 'Berlin', '2021-05-15', '2021-05-16')"
   ]
  },
  {
   "cell_type": "code",
   "execution_count": 60,
   "metadata": {},
   "outputs": [
    {
     "data": {
      "text/plain": [
       "{'2021-05-15': {'Quotes': [{'QuoteId': 1,\n",
       "    'MinPrice': 20,\n",
       "    'Direct': True,\n",
       "    'OutboundLeg': {'CarrierIds': [1090],\n",
       "     'OriginId': 82398,\n",
       "     'DestinationId': 42514,\n",
       "     'DepartureDate': '2021-05-15T00:00:00'},\n",
       "    'QuoteDateTime': '2021-02-23T15:00:00'}],\n",
       "  'Carriers': [{'CarrierId': 1090, 'Name': 'Ryanair'}],\n",
       "  'Places': [{'Name': 'Berlin Brandenburg',\n",
       "    'Type': 'Station',\n",
       "    'PlaceId': 42514,\n",
       "    'IataCode': 'BER',\n",
       "    'SkyscannerCode': 'BER',\n",
       "    'CityName': 'Berlin',\n",
       "    'CityId': 'BERL',\n",
       "    'CountryName': 'Germany'},\n",
       "   {'Name': 'London Stansted',\n",
       "    'Type': 'Station',\n",
       "    'PlaceId': 82398,\n",
       "    'IataCode': 'STN',\n",
       "    'SkyscannerCode': 'STN',\n",
       "    'CityName': 'London',\n",
       "    'CityId': 'LOND',\n",
       "    'CountryName': 'United Kingdom'},\n",
       "   {'Name': 'London',\n",
       "    'Type': 'City',\n",
       "    'PlaceId': 3169460,\n",
       "    'SkyscannerCode': 'LOND',\n",
       "    'CityId': 'LOND',\n",
       "    'CountryName': 'United Kingdom'}],\n",
       "  'Currencies': [{'Code': 'EUR',\n",
       "    'Symbol': '€',\n",
       "    'ThousandsSeparator': '.',\n",
       "    'DecimalSeparator': ',',\n",
       "    'SymbolOnLeft': False,\n",
       "    'SpaceBetweenAmountAndSymbol': True,\n",
       "    'RoundingCoefficient': 0,\n",
       "    'DecimalDigits': 2}],\n",
       "  'Routes': [{'QuoteDateTime': '2021-02-23T15:00:00',\n",
       "    'Price': 20,\n",
       "    'QuoteIds': [1],\n",
       "    'OriginId': 3169460,\n",
       "    'DestinationId': 42514}]},\n",
       " '2021-05-16': {'Quotes': [{'QuoteId': 1,\n",
       "    'MinPrice': 24,\n",
       "    'Direct': True,\n",
       "    'OutboundLeg': {'CarrierIds': [1090],\n",
       "     'OriginId': 82398,\n",
       "     'DestinationId': 42514,\n",
       "     'DepartureDate': '2021-05-16T00:00:00'},\n",
       "    'QuoteDateTime': '2021-02-19T20:57:00'}],\n",
       "  'Carriers': [{'CarrierId': 1090, 'Name': 'Ryanair'}],\n",
       "  'Places': [{'Name': 'Berlin Brandenburg',\n",
       "    'Type': 'Station',\n",
       "    'PlaceId': 42514,\n",
       "    'IataCode': 'BER',\n",
       "    'SkyscannerCode': 'BER',\n",
       "    'CityName': 'Berlin',\n",
       "    'CityId': 'BERL',\n",
       "    'CountryName': 'Germany'},\n",
       "   {'Name': 'London Stansted',\n",
       "    'Type': 'Station',\n",
       "    'PlaceId': 82398,\n",
       "    'IataCode': 'STN',\n",
       "    'SkyscannerCode': 'STN',\n",
       "    'CityName': 'London',\n",
       "    'CityId': 'LOND',\n",
       "    'CountryName': 'United Kingdom'},\n",
       "   {'Name': 'London',\n",
       "    'Type': 'City',\n",
       "    'PlaceId': 3169460,\n",
       "    'SkyscannerCode': 'LOND',\n",
       "    'CityId': 'LOND',\n",
       "    'CountryName': 'United Kingdom'}],\n",
       "  'Currencies': [{'Code': 'EUR',\n",
       "    'Symbol': '€',\n",
       "    'ThousandsSeparator': '.',\n",
       "    'DecimalSeparator': ',',\n",
       "    'SymbolOnLeft': False,\n",
       "    'SpaceBetweenAmountAndSymbol': True,\n",
       "    'RoundingCoefficient': 0,\n",
       "    'DecimalDigits': 2}],\n",
       "  'Routes': [{'Price': 24,\n",
       "    'QuoteDateTime': '2021-02-19T20:57:00',\n",
       "    'QuoteIds': [1],\n",
       "    'OriginId': 3169460,\n",
       "    'DestinationId': 42514}]}}"
      ]
     },
     "execution_count": 60,
     "metadata": {},
     "output_type": "execute_result"
    }
   ],
   "source": [
    "flights"
   ]
  },
  {
   "cell_type": "code",
   "execution_count": 55,
   "metadata": {},
   "outputs": [],
   "source": [
    "prices = {}\n",
    "for date in flights:\n",
    "    result = flights[date]['Quotes'][0]['MinPrice']\n",
    "    prices[date] = result"
   ]
  },
  {
   "cell_type": "code",
   "execution_count": 78,
   "metadata": {},
   "outputs": [
    {
     "data": {
      "text/plain": [
       "list"
      ]
     },
     "execution_count": 78,
     "metadata": {},
     "output_type": "execute_result"
    }
   ],
   "source": [
    "type(list(prices.keys()))"
   ]
  },
  {
   "cell_type": "code",
   "execution_count": 79,
   "metadata": {},
   "outputs": [],
   "source": [
    "def same_price(origin, destination, start, end):\n",
    "    \n",
    "    flights = flight_days(origin, destination, start, end)\n",
    "    \n",
    "    prices = {}\n",
    "    \n",
    "    for date in flights:\n",
    "        result = flights[date]['Quotes'][0]['MinPrice']\n",
    "        prices[date] = result\n",
    "    \n",
    "    dates = list(prices.keys())\n",
    "    prices = list(prices.values())  \n",
    "    \n",
    "    flights_df = pd.DataFrame([dates, prices]).T\n",
    "    flights_df.columns = ['Date', 'Price']\n",
    "    flights_df.sort_values(['Price'], inplace = True)\n",
    "    \n",
    "    \n",
    "    return flights_df\n",
    "    \n",
    "    \n"
   ]
  },
  {
   "cell_type": "code",
   "execution_count": 81,
   "metadata": {},
   "outputs": [
    {
     "data": {
      "text/html": [
       "<div>\n",
       "<style scoped>\n",
       "    .dataframe tbody tr th:only-of-type {\n",
       "        vertical-align: middle;\n",
       "    }\n",
       "\n",
       "    .dataframe tbody tr th {\n",
       "        vertical-align: top;\n",
       "    }\n",
       "\n",
       "    .dataframe thead th {\n",
       "        text-align: right;\n",
       "    }\n",
       "</style>\n",
       "<table border=\"1\" class=\"dataframe\">\n",
       "  <thead>\n",
       "    <tr style=\"text-align: right;\">\n",
       "      <th></th>\n",
       "      <th>Date</th>\n",
       "      <th>Price</th>\n",
       "    </tr>\n",
       "  </thead>\n",
       "  <tbody>\n",
       "    <tr>\n",
       "      <th>0</th>\n",
       "      <td>2021-05-15</td>\n",
       "      <td>20</td>\n",
       "    </tr>\n",
       "    <tr>\n",
       "      <th>3</th>\n",
       "      <td>2021-05-18</td>\n",
       "      <td>21</td>\n",
       "    </tr>\n",
       "    <tr>\n",
       "      <th>1</th>\n",
       "      <td>2021-05-16</td>\n",
       "      <td>24</td>\n",
       "    </tr>\n",
       "    <tr>\n",
       "      <th>2</th>\n",
       "      <td>2021-05-17</td>\n",
       "      <td>24</td>\n",
       "    </tr>\n",
       "  </tbody>\n",
       "</table>\n",
       "</div>"
      ],
      "text/plain": [
       "         Date Price\n",
       "0  2021-05-15    20\n",
       "3  2021-05-18    21\n",
       "1  2021-05-16    24\n",
       "2  2021-05-17    24"
      ]
     },
     "execution_count": 81,
     "metadata": {},
     "output_type": "execute_result"
    }
   ],
   "source": [
    "same_price('London', 'Berlin', '2021-05-15', '2021-05-18')"
   ]
  },
  {
   "cell_type": "code",
   "execution_count": null,
   "metadata": {},
   "outputs": [],
   "source": []
  }
 ],
 "metadata": {
  "kernelspec": {
   "display_name": "Python 3",
   "language": "python",
   "name": "python3"
  },
  "language_info": {
   "codemirror_mode": {
    "name": "ipython",
    "version": 3
   },
   "file_extension": ".py",
   "mimetype": "text/x-python",
   "name": "python",
   "nbconvert_exporter": "python",
   "pygments_lexer": "ipython3",
   "version": "3.8.5"
  }
 },
 "nbformat": 4,
 "nbformat_minor": 4
}
